{
 "cells": [
  {
   "cell_type": "code",
   "execution_count": 1,
   "id": "23d369b4",
   "metadata": {},
   "outputs": [],
   "source": [
    "%reload_ext autoreload\n",
    "%autoreload 2\n",
    "#The purpose of these commands is to facilitate development by automatically updating the code without requiring \n",
    "# manual reloading of modules every time changes are made."
   ]
  },
  {
   "cell_type": "code",
   "execution_count": 2,
   "id": "a423e6b8",
   "metadata": {},
   "outputs": [],
   "source": [
    "#pip install SQLAlchemy\n",
    "#pip install Pandas\n",
    "#pip3 install Psycopg2"
   ]
  },
  {
   "cell_type": "code",
   "execution_count": 3,
   "id": "b3c1c87e",
   "metadata": {},
   "outputs": [],
   "source": [
    "import matplotlib.pyplot as plt\n",
    "import matplotlib"
   ]
  },
  {
   "cell_type": "code",
   "execution_count": 4,
   "id": "058fb611",
   "metadata": {},
   "outputs": [
    {
     "data": {
      "text/html": [
       "<div>\n",
       "<style scoped>\n",
       "    .dataframe tbody tr th:only-of-type {\n",
       "        vertical-align: middle;\n",
       "    }\n",
       "\n",
       "    .dataframe tbody tr th {\n",
       "        vertical-align: top;\n",
       "    }\n",
       "\n",
       "    .dataframe thead th {\n",
       "        text-align: right;\n",
       "    }\n",
       "</style>\n",
       "<table border=\"1\" class=\"dataframe\">\n",
       "  <thead>\n",
       "    <tr style=\"text-align: right;\">\n",
       "      <th></th>\n",
       "      <th>Bearer Id</th>\n",
       "      <th>Start</th>\n",
       "      <th>Start ms</th>\n",
       "      <th>End</th>\n",
       "      <th>End ms</th>\n",
       "      <th>Dur. (ms)</th>\n",
       "      <th>IMSI</th>\n",
       "      <th>MSISDN/Number</th>\n",
       "      <th>IMEI</th>\n",
       "      <th>Last Location Name</th>\n",
       "      <th>...</th>\n",
       "      <th>Youtube DL (Bytes)</th>\n",
       "      <th>Youtube UL (Bytes)</th>\n",
       "      <th>Netflix DL (Bytes)</th>\n",
       "      <th>Netflix UL (Bytes)</th>\n",
       "      <th>Gaming DL (Bytes)</th>\n",
       "      <th>Gaming UL (Bytes)</th>\n",
       "      <th>Other DL (Bytes)</th>\n",
       "      <th>Other UL (Bytes)</th>\n",
       "      <th>Total UL (Bytes)</th>\n",
       "      <th>Total DL (Bytes)</th>\n",
       "    </tr>\n",
       "  </thead>\n",
       "  <tbody>\n",
       "    <tr>\n",
       "      <th>0</th>\n",
       "      <td>1.311448e+19</td>\n",
       "      <td>4/4/2019 12:01</td>\n",
       "      <td>770.0</td>\n",
       "      <td>4/25/2019 14:35</td>\n",
       "      <td>662.0</td>\n",
       "      <td>1823652.0</td>\n",
       "      <td>2.082014e+14</td>\n",
       "      <td>3.366496e+10</td>\n",
       "      <td>3.552121e+13</td>\n",
       "      <td>9.16456699548519E+015</td>\n",
       "      <td>...</td>\n",
       "      <td>15854611.0</td>\n",
       "      <td>2501332.0</td>\n",
       "      <td>8198936.0</td>\n",
       "      <td>9656251.0</td>\n",
       "      <td>278082303.0</td>\n",
       "      <td>14344150.0</td>\n",
       "      <td>171744450.0</td>\n",
       "      <td>8814393.0</td>\n",
       "      <td>36749741.0</td>\n",
       "      <td>308879636.0</td>\n",
       "    </tr>\n",
       "    <tr>\n",
       "      <th>1</th>\n",
       "      <td>1.311448e+19</td>\n",
       "      <td>4/9/2019 13:04</td>\n",
       "      <td>235.0</td>\n",
       "      <td>4/25/2019 8:15</td>\n",
       "      <td>606.0</td>\n",
       "      <td>1365104.0</td>\n",
       "      <td>2.082019e+14</td>\n",
       "      <td>3.368185e+10</td>\n",
       "      <td>3.579401e+13</td>\n",
       "      <td>L77566A</td>\n",
       "      <td>...</td>\n",
       "      <td>20247395.0</td>\n",
       "      <td>19111729.0</td>\n",
       "      <td>18338413.0</td>\n",
       "      <td>17227132.0</td>\n",
       "      <td>608750074.0</td>\n",
       "      <td>1170709.0</td>\n",
       "      <td>526904238.0</td>\n",
       "      <td>15055145.0</td>\n",
       "      <td>53800391.0</td>\n",
       "      <td>653384965.0</td>\n",
       "    </tr>\n",
       "    <tr>\n",
       "      <th>2</th>\n",
       "      <td>1.311448e+19</td>\n",
       "      <td>4/9/2019 17:42</td>\n",
       "      <td>1.0</td>\n",
       "      <td>4/25/2019 11:58</td>\n",
       "      <td>652.0</td>\n",
       "      <td>1361762.0</td>\n",
       "      <td>2.082003e+14</td>\n",
       "      <td>3.376063e+10</td>\n",
       "      <td>3.528151e+13</td>\n",
       "      <td>D42335A</td>\n",
       "      <td>...</td>\n",
       "      <td>19725661.0</td>\n",
       "      <td>14699576.0</td>\n",
       "      <td>17587794.0</td>\n",
       "      <td>6163408.0</td>\n",
       "      <td>229584621.0</td>\n",
       "      <td>395630.0</td>\n",
       "      <td>410692588.0</td>\n",
       "      <td>4215763.0</td>\n",
       "      <td>27883638.0</td>\n",
       "      <td>279807335.0</td>\n",
       "    </tr>\n",
       "    <tr>\n",
       "      <th>3</th>\n",
       "      <td>1.311448e+19</td>\n",
       "      <td>4/10/2019 0:31</td>\n",
       "      <td>486.0</td>\n",
       "      <td>4/25/2019 7:36</td>\n",
       "      <td>171.0</td>\n",
       "      <td>1321509.0</td>\n",
       "      <td>2.082014e+14</td>\n",
       "      <td>3.375034e+10</td>\n",
       "      <td>3.535661e+13</td>\n",
       "      <td>T21824A</td>\n",
       "      <td>...</td>\n",
       "      <td>21388122.0</td>\n",
       "      <td>15146643.0</td>\n",
       "      <td>13994646.0</td>\n",
       "      <td>1097942.0</td>\n",
       "      <td>799538153.0</td>\n",
       "      <td>10849722.0</td>\n",
       "      <td>749039933.0</td>\n",
       "      <td>12797283.0</td>\n",
       "      <td>43324218.0</td>\n",
       "      <td>846028530.0</td>\n",
       "    </tr>\n",
       "    <tr>\n",
       "      <th>4</th>\n",
       "      <td>1.311448e+19</td>\n",
       "      <td>4/12/2019 20:10</td>\n",
       "      <td>565.0</td>\n",
       "      <td>4/25/2019 10:40</td>\n",
       "      <td>954.0</td>\n",
       "      <td>1089009.0</td>\n",
       "      <td>2.082014e+14</td>\n",
       "      <td>3.369980e+10</td>\n",
       "      <td>3.540701e+13</td>\n",
       "      <td>D88865A</td>\n",
       "      <td>...</td>\n",
       "      <td>15259380.0</td>\n",
       "      <td>18962873.0</td>\n",
       "      <td>17124581.0</td>\n",
       "      <td>415218.0</td>\n",
       "      <td>527707248.0</td>\n",
       "      <td>3529801.0</td>\n",
       "      <td>550709500.0</td>\n",
       "      <td>13910322.0</td>\n",
       "      <td>38542814.0</td>\n",
       "      <td>569138589.0</td>\n",
       "    </tr>\n",
       "  </tbody>\n",
       "</table>\n",
       "<p>5 rows × 55 columns</p>\n",
       "</div>"
      ],
      "text/plain": [
       "      Bearer Id            Start  Start ms              End  End ms  \\\n",
       "0  1.311448e+19   4/4/2019 12:01     770.0  4/25/2019 14:35   662.0   \n",
       "1  1.311448e+19   4/9/2019 13:04     235.0   4/25/2019 8:15   606.0   \n",
       "2  1.311448e+19   4/9/2019 17:42       1.0  4/25/2019 11:58   652.0   \n",
       "3  1.311448e+19   4/10/2019 0:31     486.0   4/25/2019 7:36   171.0   \n",
       "4  1.311448e+19  4/12/2019 20:10     565.0  4/25/2019 10:40   954.0   \n",
       "\n",
       "   Dur. (ms)          IMSI  MSISDN/Number          IMEI  \\\n",
       "0  1823652.0  2.082014e+14   3.366496e+10  3.552121e+13   \n",
       "1  1365104.0  2.082019e+14   3.368185e+10  3.579401e+13   \n",
       "2  1361762.0  2.082003e+14   3.376063e+10  3.528151e+13   \n",
       "3  1321509.0  2.082014e+14   3.375034e+10  3.535661e+13   \n",
       "4  1089009.0  2.082014e+14   3.369980e+10  3.540701e+13   \n",
       "\n",
       "      Last Location Name  ...  Youtube DL (Bytes)  Youtube UL (Bytes)  \\\n",
       "0  9.16456699548519E+015  ...          15854611.0           2501332.0   \n",
       "1                L77566A  ...          20247395.0          19111729.0   \n",
       "2                D42335A  ...          19725661.0          14699576.0   \n",
       "3                T21824A  ...          21388122.0          15146643.0   \n",
       "4                D88865A  ...          15259380.0          18962873.0   \n",
       "\n",
       "   Netflix DL (Bytes)  Netflix UL (Bytes)  Gaming DL (Bytes)  \\\n",
       "0           8198936.0           9656251.0        278082303.0   \n",
       "1          18338413.0          17227132.0        608750074.0   \n",
       "2          17587794.0           6163408.0        229584621.0   \n",
       "3          13994646.0           1097942.0        799538153.0   \n",
       "4          17124581.0            415218.0        527707248.0   \n",
       "\n",
       "   Gaming UL (Bytes)  Other DL (Bytes)  Other UL (Bytes)  Total UL (Bytes)  \\\n",
       "0         14344150.0       171744450.0         8814393.0        36749741.0   \n",
       "1          1170709.0       526904238.0        15055145.0        53800391.0   \n",
       "2           395630.0       410692588.0         4215763.0        27883638.0   \n",
       "3         10849722.0       749039933.0        12797283.0        43324218.0   \n",
       "4          3529801.0       550709500.0        13910322.0        38542814.0   \n",
       "\n",
       "   Total DL (Bytes)  \n",
       "0       308879636.0  \n",
       "1       653384965.0  \n",
       "2       279807335.0  \n",
       "3       846028530.0  \n",
       "4       569138589.0  \n",
       "\n",
       "[5 rows x 55 columns]"
      ]
     },
     "execution_count": 4,
     "metadata": {},
     "output_type": "execute_result"
    }
   ],
   "source": [
    "\n",
    "import pandas as pd\n",
    "\n",
    "from sqlalchemy import create_engine\n",
    "\n",
    "database_name = 'telecom'\n",
    "table_name = 'xdr_data'\n",
    "\n",
    "connection_params ={\"host\": \"localhost\", \"user\": \"postgres\", \"password\":\"myPassword\", \"port\":\"5432\",\"database\":database_name}\n",
    "engine = create_engine(f\"postgresql+psycopg2://{connection_params['user']}:{connection_params['password']}@{connection_params['host']}:{connection_params['port']}/{connection_params['database']}\")\n",
    "                       \n",
    "#str or SQLAlchemy Selectable (select or text object)\n",
    "sql_query='SELECT * FROM xdr_data Limit 300010'\n",
    "#sql_query =  'SELECT * FROM xdr_data Limit 1000000 '\n",
    "df = pd.read_sql(sql_query,con=engine)\n",
    "df.head(5)"
   ]
  },
  {
   "cell_type": "code",
   "execution_count": 5,
   "id": "1ab14c23",
   "metadata": {
    "scrolled": true
   },
   "outputs": [
    {
     "name": "stdout",
     "output_type": "stream",
     "text": [
      "<class 'pandas.core.frame.DataFrame'>\n",
      "RangeIndex: 300002 entries, 0 to 300001\n",
      "Data columns (total 55 columns):\n",
      " #   Column                                    Non-Null Count   Dtype  \n",
      "---  ------                                    --------------   -----  \n",
      " 0   Bearer Id                                 298020 non-null  float64\n",
      " 1   Start                                     300000 non-null  object \n",
      " 2   Start ms                                  300000 non-null  float64\n",
      " 3   End                                       300000 non-null  object \n",
      " 4   End ms                                    300000 non-null  float64\n",
      " 5   Dur. (ms)                                 300000 non-null  float64\n",
      " 6   IMSI                                      298862 non-null  float64\n",
      " 7   MSISDN/Number                             297870 non-null  float64\n",
      " 8   IMEI                                      298858 non-null  float64\n",
      " 9   Last Location Name                        297696 non-null  object \n",
      " 10  Avg RTT DL (ms)                           244344 non-null  float64\n",
      " 11  Avg RTT UL (ms)                           244378 non-null  float64\n",
      " 12  Avg Bearer TP DL (kbps)                   300000 non-null  float64\n",
      " 13  Avg Bearer TP UL (kbps)                   300000 non-null  float64\n",
      " 14  TCP DL Retrans. Vol (Bytes)               123710 non-null  float64\n",
      " 15  TCP UL Retrans. Vol (Bytes)               106704 non-null  float64\n",
      " 16  DL TP < 50 Kbps (%)                       298494 non-null  float64\n",
      " 17  50 Kbps < DL TP < 250 Kbps (%)            298494 non-null  float64\n",
      " 18  250 Kbps < DL TP < 1 Mbps (%)             298494 non-null  float64\n",
      " 19  DL TP > 1 Mbps (%)                        298494 non-null  float64\n",
      " 20  UL TP < 10 Kbps (%)                       298418 non-null  float64\n",
      " 21  10 Kbps < UL TP < 50 Kbps (%)             298418 non-null  float64\n",
      " 22  50 Kbps < UL TP < 300 Kbps (%)            298418 non-null  float64\n",
      " 23  UL TP > 300 Kbps (%)                      298418 non-null  float64\n",
      " 24  HTTP DL (Bytes)                           137054 non-null  float64\n",
      " 25  HTTP UL (Bytes)                           136382 non-null  float64\n",
      " 26  Activity Duration DL (ms)                 300000 non-null  float64\n",
      " 27  Activity Duration UL (ms)                 300000 non-null  float64\n",
      " 28  Dur. (ms).1                               300000 non-null  float64\n",
      " 29  Handset Manufacturer                      298858 non-null  object \n",
      " 30  Handset Type                              298858 non-null  object \n",
      " 31  Nb of sec with 125000B < Vol DL           104926 non-null  float64\n",
      " 32  Nb of sec with 1250B < Vol UL < 6250B     114214 non-null  float64\n",
      " 33  Nb of sec with 31250B < Vol DL < 125000B  112830 non-null  float64\n",
      " 34  Nb of sec with 37500B < Vol UL            39494 non-null   float64\n",
      " 35  Nb of sec with 6250B < Vol DL < 31250B    123368 non-null  float64\n",
      " 36  Nb of sec with 6250B < Vol UL < 37500B    76316 non-null   float64\n",
      " 37  Nb of sec with Vol DL < 6250B             298492 non-null  float64\n",
      " 38  Nb of sec with Vol UL < 1250B             298416 non-null  float64\n",
      " 39  Social Media DL (Bytes)                   300002 non-null  float64\n",
      " 40  Social Media UL (Bytes)                   300002 non-null  float64\n",
      " 41  Google DL (Bytes)                         300002 non-null  float64\n",
      " 42  Google UL (Bytes)                         300002 non-null  float64\n",
      " 43  Email DL (Bytes)                          300002 non-null  float64\n",
      " 44  Email UL (Bytes)                          300002 non-null  float64\n",
      " 45  Youtube DL (Bytes)                        300002 non-null  float64\n",
      " 46  Youtube UL (Bytes)                        300002 non-null  float64\n",
      " 47  Netflix DL (Bytes)                        300002 non-null  float64\n",
      " 48  Netflix UL (Bytes)                        300002 non-null  float64\n",
      " 49  Gaming DL (Bytes)                         300002 non-null  float64\n",
      " 50  Gaming UL (Bytes)                         300002 non-null  float64\n",
      " 51  Other DL (Bytes)                          300002 non-null  float64\n",
      " 52  Other UL (Bytes)                          300002 non-null  float64\n",
      " 53  Total UL (Bytes)                          300000 non-null  float64\n",
      " 54  Total DL (Bytes)                          300000 non-null  float64\n",
      "dtypes: float64(50), object(5)\n",
      "memory usage: 125.9+ MB\n"
     ]
    }
   ],
   "source": [
    "df.info()"
   ]
  },
  {
   "cell_type": "code",
   "execution_count": 6,
   "id": "3b8b0a88",
   "metadata": {},
   "outputs": [
    {
     "data": {
      "text/plain": [
       "(300002, 55)"
      ]
     },
     "execution_count": 6,
     "metadata": {},
     "output_type": "execute_result"
    }
   ],
   "source": [
    "df.shape"
   ]
  },
  {
   "cell_type": "code",
   "execution_count": 7,
   "id": "63862eec",
   "metadata": {
    "scrolled": false
   },
   "outputs": [
    {
     "data": {
      "text/plain": [
       "55"
      ]
     },
     "execution_count": 7,
     "metadata": {},
     "output_type": "execute_result"
    }
   ],
   "source": [
    "#number of columns\n",
    "len(df.columns)"
   ]
  },
  {
   "cell_type": "code",
   "execution_count": 8,
   "id": "1c630d58",
   "metadata": {},
   "outputs": [
    {
     "data": {
      "text/plain": [
       "300002"
      ]
     },
     "execution_count": 8,
     "metadata": {},
     "output_type": "execute_result"
    }
   ],
   "source": [
    "len(df)"
   ]
  },
  {
   "cell_type": "code",
   "execution_count": 9,
   "id": "5fc5bfe1",
   "metadata": {
    "scrolled": true
   },
   "outputs": [
    {
     "data": {
      "text/plain": [
       "['Bearer Id',\n",
       " 'Start',\n",
       " 'Start ms',\n",
       " 'End',\n",
       " 'End ms',\n",
       " 'Dur. (ms)',\n",
       " 'IMSI',\n",
       " 'MSISDN/Number',\n",
       " 'IMEI',\n",
       " 'Last Location Name',\n",
       " 'Avg RTT DL (ms)',\n",
       " 'Avg RTT UL (ms)',\n",
       " 'Avg Bearer TP DL (kbps)',\n",
       " 'Avg Bearer TP UL (kbps)',\n",
       " 'TCP DL Retrans. Vol (Bytes)',\n",
       " 'TCP UL Retrans. Vol (Bytes)',\n",
       " 'DL TP < 50 Kbps (%)',\n",
       " '50 Kbps < DL TP < 250 Kbps (%)',\n",
       " '250 Kbps < DL TP < 1 Mbps (%)',\n",
       " 'DL TP > 1 Mbps (%)',\n",
       " 'UL TP < 10 Kbps (%)',\n",
       " '10 Kbps < UL TP < 50 Kbps (%)',\n",
       " '50 Kbps < UL TP < 300 Kbps (%)',\n",
       " 'UL TP > 300 Kbps (%)',\n",
       " 'HTTP DL (Bytes)',\n",
       " 'HTTP UL (Bytes)',\n",
       " 'Activity Duration DL (ms)',\n",
       " 'Activity Duration UL (ms)',\n",
       " 'Dur. (ms).1',\n",
       " 'Handset Manufacturer',\n",
       " 'Handset Type',\n",
       " 'Nb of sec with 125000B < Vol DL',\n",
       " 'Nb of sec with 1250B < Vol UL < 6250B',\n",
       " 'Nb of sec with 31250B < Vol DL < 125000B',\n",
       " 'Nb of sec with 37500B < Vol UL',\n",
       " 'Nb of sec with 6250B < Vol DL < 31250B',\n",
       " 'Nb of sec with 6250B < Vol UL < 37500B',\n",
       " 'Nb of sec with Vol DL < 6250B',\n",
       " 'Nb of sec with Vol UL < 1250B',\n",
       " 'Social Media DL (Bytes)',\n",
       " 'Social Media UL (Bytes)',\n",
       " 'Google DL (Bytes)',\n",
       " 'Google UL (Bytes)',\n",
       " 'Email DL (Bytes)',\n",
       " 'Email UL (Bytes)',\n",
       " 'Youtube DL (Bytes)',\n",
       " 'Youtube UL (Bytes)',\n",
       " 'Netflix DL (Bytes)',\n",
       " 'Netflix UL (Bytes)',\n",
       " 'Gaming DL (Bytes)',\n",
       " 'Gaming UL (Bytes)',\n",
       " 'Other DL (Bytes)',\n",
       " 'Other UL (Bytes)',\n",
       " 'Total UL (Bytes)',\n",
       " 'Total DL (Bytes)']"
      ]
     },
     "execution_count": 9,
     "metadata": {},
     "output_type": "execute_result"
    }
   ],
   "source": [
    "#list of columns\n",
    "df.columns.tolist()"
   ]
  },
  {
   "cell_type": "code",
   "execution_count": 10,
   "id": "dd079f3c",
   "metadata": {},
   "outputs": [
    {
     "data": {
      "text/plain": [
       "Bearer Id                                   float64\n",
       "Start                                        object\n",
       "Start ms                                    float64\n",
       "End                                          object\n",
       "End ms                                      float64\n",
       "Dur. (ms)                                   float64\n",
       "IMSI                                        float64\n",
       "MSISDN/Number                               float64\n",
       "IMEI                                        float64\n",
       "Last Location Name                           object\n",
       "Avg RTT DL (ms)                             float64\n",
       "Avg RTT UL (ms)                             float64\n",
       "Avg Bearer TP DL (kbps)                     float64\n",
       "Avg Bearer TP UL (kbps)                     float64\n",
       "TCP DL Retrans. Vol (Bytes)                 float64\n",
       "TCP UL Retrans. Vol (Bytes)                 float64\n",
       "DL TP < 50 Kbps (%)                         float64\n",
       "50 Kbps < DL TP < 250 Kbps (%)              float64\n",
       "250 Kbps < DL TP < 1 Mbps (%)               float64\n",
       "DL TP > 1 Mbps (%)                          float64\n",
       "UL TP < 10 Kbps (%)                         float64\n",
       "10 Kbps < UL TP < 50 Kbps (%)               float64\n",
       "50 Kbps < UL TP < 300 Kbps (%)              float64\n",
       "UL TP > 300 Kbps (%)                        float64\n",
       "HTTP DL (Bytes)                             float64\n",
       "HTTP UL (Bytes)                             float64\n",
       "Activity Duration DL (ms)                   float64\n",
       "Activity Duration UL (ms)                   float64\n",
       "Dur. (ms).1                                 float64\n",
       "Handset Manufacturer                         object\n",
       "Handset Type                                 object\n",
       "Nb of sec with 125000B < Vol DL             float64\n",
       "Nb of sec with 1250B < Vol UL < 6250B       float64\n",
       "Nb of sec with 31250B < Vol DL < 125000B    float64\n",
       "Nb of sec with 37500B < Vol UL              float64\n",
       "Nb of sec with 6250B < Vol DL < 31250B      float64\n",
       "Nb of sec with 6250B < Vol UL < 37500B      float64\n",
       "Nb of sec with Vol DL < 6250B               float64\n",
       "Nb of sec with Vol UL < 1250B               float64\n",
       "Social Media DL (Bytes)                     float64\n",
       "Social Media UL (Bytes)                     float64\n",
       "Google DL (Bytes)                           float64\n",
       "Google UL (Bytes)                           float64\n",
       "Email DL (Bytes)                            float64\n",
       "Email UL (Bytes)                            float64\n",
       "Youtube DL (Bytes)                          float64\n",
       "Youtube UL (Bytes)                          float64\n",
       "Netflix DL (Bytes)                          float64\n",
       "Netflix UL (Bytes)                          float64\n",
       "Gaming DL (Bytes)                           float64\n",
       "Gaming UL (Bytes)                           float64\n",
       "Other DL (Bytes)                            float64\n",
       "Other UL (Bytes)                            float64\n",
       "Total UL (Bytes)                            float64\n",
       "Total DL (Bytes)                            float64\n",
       "dtype: object"
      ]
     },
     "execution_count": 10,
     "metadata": {},
     "output_type": "execute_result"
    }
   ],
   "source": [
    "df.dtypes"
   ]
  },
  {
   "cell_type": "code",
   "execution_count": 11,
   "id": "0bc6232f",
   "metadata": {},
   "outputs": [
    {
     "data": {
      "text/plain": [
       "dtype('O')"
      ]
     },
     "execution_count": 11,
     "metadata": {},
     "output_type": "execute_result"
    }
   ],
   "source": [
    "df['Start'].dtypes"
   ]
  },
  {
   "cell_type": "code",
   "execution_count": 9,
   "id": "0c52b761",
   "metadata": {
    "scrolled": true
   },
   "outputs": [],
   "source": [
    "#Separate the float columns and the object column\n",
    "#get column with foalt data\n",
    "def get_data_float (datafr):\n",
    "    fl_col = []\n",
    "    for col in df.columns :\n",
    "        if datafr[col].dtypes == 'float64' :\n",
    "            fl_col = fl_col + [col]\n",
    "    #print (fl_col)\n",
    "    print (\"number of float column = \" , len(fl_col))\n",
    "    return fl_col\n",
    "\n",
    "#get column with object data\n",
    "def get_data_obj (datafr):\n",
    "    obj_col = []\n",
    "    for col in df.columns :\n",
    "        if datafr[col].dtypes == 'O' :\n",
    "            obj_col = obj_col + [col]\n",
    "    #print (obj_col)\n",
    "    print (\"number of object column = \" , len(obj_col))\n",
    "    return obj_col"
   ]
  },
  {
   "cell_type": "code",
   "execution_count": 13,
   "id": "843a7be3",
   "metadata": {},
   "outputs": [
    {
     "name": "stdout",
     "output_type": "stream",
     "text": [
      "number of object column =  5\n",
      "['Start', 'End', 'Last Location Name', 'Handset Manufacturer', 'Handset Type']\n"
     ]
    }
   ],
   "source": [
    "dtob = get_data_obj (df)\n",
    "print(dtob)"
   ]
  },
  {
   "cell_type": "code",
   "execution_count": 14,
   "id": "d031a77c",
   "metadata": {},
   "outputs": [
    {
     "name": "stdout",
     "output_type": "stream",
     "text": [
      "number of float column =  50\n",
      "['Bearer Id', 'Start ms', 'End ms', 'Dur. (ms)', 'IMSI', 'MSISDN/Number', 'IMEI', 'Avg RTT DL (ms)', 'Avg RTT UL (ms)', 'Avg Bearer TP DL (kbps)', 'Avg Bearer TP UL (kbps)', 'TCP DL Retrans. Vol (Bytes)', 'TCP UL Retrans. Vol (Bytes)', 'DL TP < 50 Kbps (%)', '50 Kbps < DL TP < 250 Kbps (%)', '250 Kbps < DL TP < 1 Mbps (%)', 'DL TP > 1 Mbps (%)', 'UL TP < 10 Kbps (%)', '10 Kbps < UL TP < 50 Kbps (%)', '50 Kbps < UL TP < 300 Kbps (%)', 'UL TP > 300 Kbps (%)', 'HTTP DL (Bytes)', 'HTTP UL (Bytes)', 'Activity Duration DL (ms)', 'Activity Duration UL (ms)', 'Dur. (ms).1', 'Nb of sec with 125000B < Vol DL', 'Nb of sec with 1250B < Vol UL < 6250B', 'Nb of sec with 31250B < Vol DL < 125000B', 'Nb of sec with 37500B < Vol UL', 'Nb of sec with 6250B < Vol DL < 31250B', 'Nb of sec with 6250B < Vol UL < 37500B', 'Nb of sec with Vol DL < 6250B', 'Nb of sec with Vol UL < 1250B', 'Social Media DL (Bytes)', 'Social Media UL (Bytes)', 'Google DL (Bytes)', 'Google UL (Bytes)', 'Email DL (Bytes)', 'Email UL (Bytes)', 'Youtube DL (Bytes)', 'Youtube UL (Bytes)', 'Netflix DL (Bytes)', 'Netflix UL (Bytes)', 'Gaming DL (Bytes)', 'Gaming UL (Bytes)', 'Other DL (Bytes)', 'Other UL (Bytes)', 'Total UL (Bytes)', 'Total DL (Bytes)']\n"
     ]
    }
   ],
   "source": [
    "dtfl = get_data_float (df)\n",
    "print(dtfl)"
   ]
  },
  {
   "cell_type": "code",
   "execution_count": 6,
   "id": "3472cdd0",
   "metadata": {},
   "outputs": [
    {
     "data": {
      "text/html": [
       "<div>\n",
       "<style scoped>\n",
       "    .dataframe tbody tr th:only-of-type {\n",
       "        vertical-align: middle;\n",
       "    }\n",
       "\n",
       "    .dataframe tbody tr th {\n",
       "        vertical-align: top;\n",
       "    }\n",
       "\n",
       "    .dataframe thead th {\n",
       "        text-align: right;\n",
       "    }\n",
       "</style>\n",
       "<table border=\"1\" class=\"dataframe\">\n",
       "  <thead>\n",
       "    <tr style=\"text-align: right;\">\n",
       "      <th></th>\n",
       "      <th>Bearer Id</th>\n",
       "      <th>Start ms</th>\n",
       "      <th>End ms</th>\n",
       "      <th>Dur. (ms)</th>\n",
       "      <th>IMSI</th>\n",
       "      <th>MSISDN/Number</th>\n",
       "      <th>IMEI</th>\n",
       "      <th>Avg RTT DL (ms)</th>\n",
       "      <th>Avg RTT UL (ms)</th>\n",
       "      <th>Avg Bearer TP DL (kbps)</th>\n",
       "      <th>...</th>\n",
       "      <th>Youtube DL (Bytes)</th>\n",
       "      <th>Youtube UL (Bytes)</th>\n",
       "      <th>Netflix DL (Bytes)</th>\n",
       "      <th>Netflix UL (Bytes)</th>\n",
       "      <th>Gaming DL (Bytes)</th>\n",
       "      <th>Gaming UL (Bytes)</th>\n",
       "      <th>Other DL (Bytes)</th>\n",
       "      <th>Other UL (Bytes)</th>\n",
       "      <th>Total UL (Bytes)</th>\n",
       "      <th>Total DL (Bytes)</th>\n",
       "    </tr>\n",
       "  </thead>\n",
       "  <tbody>\n",
       "    <tr>\n",
       "      <th>count</th>\n",
       "      <td>2.980200e+05</td>\n",
       "      <td>300000.000000</td>\n",
       "      <td>300000.000000</td>\n",
       "      <td>3.000000e+05</td>\n",
       "      <td>2.988620e+05</td>\n",
       "      <td>2.978700e+05</td>\n",
       "      <td>2.988580e+05</td>\n",
       "      <td>244344.000000</td>\n",
       "      <td>244378.000000</td>\n",
       "      <td>300000.000000</td>\n",
       "      <td>...</td>\n",
       "      <td>3.000020e+05</td>\n",
       "      <td>3.000020e+05</td>\n",
       "      <td>3.000020e+05</td>\n",
       "      <td>3.000020e+05</td>\n",
       "      <td>3.000020e+05</td>\n",
       "      <td>3.000020e+05</td>\n",
       "      <td>3.000020e+05</td>\n",
       "      <td>3.000020e+05</td>\n",
       "      <td>3.000000e+05</td>\n",
       "      <td>3.000000e+05</td>\n",
       "    </tr>\n",
       "    <tr>\n",
       "      <th>mean</th>\n",
       "      <td>1.013887e+19</td>\n",
       "      <td>499.188200</td>\n",
       "      <td>498.800880</td>\n",
       "      <td>1.046086e+05</td>\n",
       "      <td>2.082016e+14</td>\n",
       "      <td>4.188282e+10</td>\n",
       "      <td>4.847455e+13</td>\n",
       "      <td>109.795706</td>\n",
       "      <td>17.662883</td>\n",
       "      <td>13300.045927</td>\n",
       "      <td>...</td>\n",
       "      <td>1.163407e+07</td>\n",
       "      <td>1.100941e+07</td>\n",
       "      <td>1.162685e+07</td>\n",
       "      <td>1.100175e+07</td>\n",
       "      <td>4.220447e+08</td>\n",
       "      <td>8.288398e+06</td>\n",
       "      <td>4.211005e+08</td>\n",
       "      <td>8.264799e+06</td>\n",
       "      <td>4.112121e+07</td>\n",
       "      <td>4.546434e+08</td>\n",
       "    </tr>\n",
       "    <tr>\n",
       "      <th>std</th>\n",
       "      <td>2.893168e+18</td>\n",
       "      <td>288.611353</td>\n",
       "      <td>288.097173</td>\n",
       "      <td>8.103749e+04</td>\n",
       "      <td>2.148805e+10</td>\n",
       "      <td>2.447439e+12</td>\n",
       "      <td>2.241633e+13</td>\n",
       "      <td>619.781471</td>\n",
       "      <td>84.793351</td>\n",
       "      <td>23971.838588</td>\n",
       "      <td>...</td>\n",
       "      <td>6.710558e+06</td>\n",
       "      <td>6.345413e+06</td>\n",
       "      <td>6.725207e+06</td>\n",
       "      <td>6.359479e+06</td>\n",
       "      <td>2.439671e+08</td>\n",
       "      <td>4.782692e+06</td>\n",
       "      <td>2.432046e+08</td>\n",
       "      <td>4.768996e+06</td>\n",
       "      <td>1.127637e+07</td>\n",
       "      <td>2.441425e+08</td>\n",
       "    </tr>\n",
       "    <tr>\n",
       "      <th>min</th>\n",
       "      <td>6.917538e+18</td>\n",
       "      <td>0.000000</td>\n",
       "      <td>0.000000</td>\n",
       "      <td>7.142000e+03</td>\n",
       "      <td>2.040471e+14</td>\n",
       "      <td>3.360100e+10</td>\n",
       "      <td>4.400152e+11</td>\n",
       "      <td>0.000000</td>\n",
       "      <td>0.000000</td>\n",
       "      <td>0.000000</td>\n",
       "      <td>...</td>\n",
       "      <td>5.300000e+01</td>\n",
       "      <td>1.050000e+02</td>\n",
       "      <td>4.200000e+01</td>\n",
       "      <td>3.500000e+01</td>\n",
       "      <td>2.516000e+03</td>\n",
       "      <td>5.900000e+01</td>\n",
       "      <td>3.290000e+03</td>\n",
       "      <td>1.480000e+02</td>\n",
       "      <td>2.866892e+06</td>\n",
       "      <td>7.114041e+06</td>\n",
       "    </tr>\n",
       "    <tr>\n",
       "      <th>25%</th>\n",
       "      <td>7.349883e+18</td>\n",
       "      <td>250.000000</td>\n",
       "      <td>251.000000</td>\n",
       "      <td>5.744050e+04</td>\n",
       "      <td>2.082014e+14</td>\n",
       "      <td>3.365130e+10</td>\n",
       "      <td>3.546071e+13</td>\n",
       "      <td>32.000000</td>\n",
       "      <td>2.000000</td>\n",
       "      <td>43.000000</td>\n",
       "      <td>...</td>\n",
       "      <td>5.833501e+06</td>\n",
       "      <td>5.517965e+06</td>\n",
       "      <td>5.777156e+06</td>\n",
       "      <td>5.475981e+06</td>\n",
       "      <td>2.104733e+08</td>\n",
       "      <td>4.128476e+06</td>\n",
       "      <td>2.101869e+08</td>\n",
       "      <td>4.145943e+06</td>\n",
       "      <td>3.322201e+07</td>\n",
       "      <td>2.431068e+08</td>\n",
       "    </tr>\n",
       "    <tr>\n",
       "      <th>50%</th>\n",
       "      <td>7.349883e+18</td>\n",
       "      <td>499.000000</td>\n",
       "      <td>500.000000</td>\n",
       "      <td>8.639900e+04</td>\n",
       "      <td>2.082015e+14</td>\n",
       "      <td>3.366371e+10</td>\n",
       "      <td>3.572201e+13</td>\n",
       "      <td>45.000000</td>\n",
       "      <td>5.000000</td>\n",
       "      <td>63.000000</td>\n",
       "      <td>...</td>\n",
       "      <td>1.161602e+07</td>\n",
       "      <td>1.101345e+07</td>\n",
       "      <td>1.164222e+07</td>\n",
       "      <td>1.099638e+07</td>\n",
       "      <td>4.234081e+08</td>\n",
       "      <td>8.291208e+06</td>\n",
       "      <td>4.218030e+08</td>\n",
       "      <td>8.267071e+06</td>\n",
       "      <td>4.114331e+07</td>\n",
       "      <td>4.558411e+08</td>\n",
       "    </tr>\n",
       "    <tr>\n",
       "      <th>75%</th>\n",
       "      <td>1.304243e+19</td>\n",
       "      <td>749.000000</td>\n",
       "      <td>750.000000</td>\n",
       "      <td>1.324302e+05</td>\n",
       "      <td>2.082018e+14</td>\n",
       "      <td>3.368349e+10</td>\n",
       "      <td>8.611970e+13</td>\n",
       "      <td>70.000000</td>\n",
       "      <td>15.000000</td>\n",
       "      <td>19710.750000</td>\n",
       "      <td>...</td>\n",
       "      <td>1.744852e+07</td>\n",
       "      <td>1.651556e+07</td>\n",
       "      <td>1.747048e+07</td>\n",
       "      <td>1.650727e+07</td>\n",
       "      <td>6.331742e+08</td>\n",
       "      <td>1.243162e+07</td>\n",
       "      <td>6.316918e+08</td>\n",
       "      <td>1.238415e+07</td>\n",
       "      <td>4.903424e+07</td>\n",
       "      <td>6.657055e+08</td>\n",
       "    </tr>\n",
       "    <tr>\n",
       "      <th>max</th>\n",
       "      <td>1.318654e+19</td>\n",
       "      <td>999.000000</td>\n",
       "      <td>999.000000</td>\n",
       "      <td>1.859336e+06</td>\n",
       "      <td>2.140743e+14</td>\n",
       "      <td>8.823971e+14</td>\n",
       "      <td>9.900120e+13</td>\n",
       "      <td>96923.000000</td>\n",
       "      <td>7120.000000</td>\n",
       "      <td>378160.000000</td>\n",
       "      <td>...</td>\n",
       "      <td>2.325910e+07</td>\n",
       "      <td>2.201196e+07</td>\n",
       "      <td>2.325919e+07</td>\n",
       "      <td>2.201196e+07</td>\n",
       "      <td>8.434419e+08</td>\n",
       "      <td>1.655879e+07</td>\n",
       "      <td>8.434425e+08</td>\n",
       "      <td>1.655882e+07</td>\n",
       "      <td>7.833131e+07</td>\n",
       "      <td>9.029696e+08</td>\n",
       "    </tr>\n",
       "  </tbody>\n",
       "</table>\n",
       "<p>8 rows × 50 columns</p>\n",
       "</div>"
      ],
      "text/plain": [
       "          Bearer Id       Start ms         End ms     Dur. (ms)          IMSI  \\\n",
       "count  2.980200e+05  300000.000000  300000.000000  3.000000e+05  2.988620e+05   \n",
       "mean   1.013887e+19     499.188200     498.800880  1.046086e+05  2.082016e+14   \n",
       "std    2.893168e+18     288.611353     288.097173  8.103749e+04  2.148805e+10   \n",
       "min    6.917538e+18       0.000000       0.000000  7.142000e+03  2.040471e+14   \n",
       "25%    7.349883e+18     250.000000     251.000000  5.744050e+04  2.082014e+14   \n",
       "50%    7.349883e+18     499.000000     500.000000  8.639900e+04  2.082015e+14   \n",
       "75%    1.304243e+19     749.000000     750.000000  1.324302e+05  2.082018e+14   \n",
       "max    1.318654e+19     999.000000     999.000000  1.859336e+06  2.140743e+14   \n",
       "\n",
       "       MSISDN/Number          IMEI  Avg RTT DL (ms)  Avg RTT UL (ms)  \\\n",
       "count   2.978700e+05  2.988580e+05    244344.000000    244378.000000   \n",
       "mean    4.188282e+10  4.847455e+13       109.795706        17.662883   \n",
       "std     2.447439e+12  2.241633e+13       619.781471        84.793351   \n",
       "min     3.360100e+10  4.400152e+11         0.000000         0.000000   \n",
       "25%     3.365130e+10  3.546071e+13        32.000000         2.000000   \n",
       "50%     3.366371e+10  3.572201e+13        45.000000         5.000000   \n",
       "75%     3.368349e+10  8.611970e+13        70.000000        15.000000   \n",
       "max     8.823971e+14  9.900120e+13     96923.000000      7120.000000   \n",
       "\n",
       "       Avg Bearer TP DL (kbps)  ...  Youtube DL (Bytes)  Youtube UL (Bytes)  \\\n",
       "count            300000.000000  ...        3.000020e+05        3.000020e+05   \n",
       "mean              13300.045927  ...        1.163407e+07        1.100941e+07   \n",
       "std               23971.838588  ...        6.710558e+06        6.345413e+06   \n",
       "min                   0.000000  ...        5.300000e+01        1.050000e+02   \n",
       "25%                  43.000000  ...        5.833501e+06        5.517965e+06   \n",
       "50%                  63.000000  ...        1.161602e+07        1.101345e+07   \n",
       "75%               19710.750000  ...        1.744852e+07        1.651556e+07   \n",
       "max              378160.000000  ...        2.325910e+07        2.201196e+07   \n",
       "\n",
       "       Netflix DL (Bytes)  Netflix UL (Bytes)  Gaming DL (Bytes)  \\\n",
       "count        3.000020e+05        3.000020e+05       3.000020e+05   \n",
       "mean         1.162685e+07        1.100175e+07       4.220447e+08   \n",
       "std          6.725207e+06        6.359479e+06       2.439671e+08   \n",
       "min          4.200000e+01        3.500000e+01       2.516000e+03   \n",
       "25%          5.777156e+06        5.475981e+06       2.104733e+08   \n",
       "50%          1.164222e+07        1.099638e+07       4.234081e+08   \n",
       "75%          1.747048e+07        1.650727e+07       6.331742e+08   \n",
       "max          2.325919e+07        2.201196e+07       8.434419e+08   \n",
       "\n",
       "       Gaming UL (Bytes)  Other DL (Bytes)  Other UL (Bytes)  \\\n",
       "count       3.000020e+05      3.000020e+05      3.000020e+05   \n",
       "mean        8.288398e+06      4.211005e+08      8.264799e+06   \n",
       "std         4.782692e+06      2.432046e+08      4.768996e+06   \n",
       "min         5.900000e+01      3.290000e+03      1.480000e+02   \n",
       "25%         4.128476e+06      2.101869e+08      4.145943e+06   \n",
       "50%         8.291208e+06      4.218030e+08      8.267071e+06   \n",
       "75%         1.243162e+07      6.316918e+08      1.238415e+07   \n",
       "max         1.655879e+07      8.434425e+08      1.655882e+07   \n",
       "\n",
       "       Total UL (Bytes)  Total DL (Bytes)  \n",
       "count      3.000000e+05      3.000000e+05  \n",
       "mean       4.112121e+07      4.546434e+08  \n",
       "std        1.127637e+07      2.441425e+08  \n",
       "min        2.866892e+06      7.114041e+06  \n",
       "25%        3.322201e+07      2.431068e+08  \n",
       "50%        4.114331e+07      4.558411e+08  \n",
       "75%        4.903424e+07      6.657055e+08  \n",
       "max        7.833131e+07      9.029696e+08  \n",
       "\n",
       "[8 rows x 50 columns]"
      ]
     },
     "execution_count": 6,
     "metadata": {},
     "output_type": "execute_result"
    }
   ],
   "source": [
    "#Analysis\n",
    "df.describe()"
   ]
  },
  {
   "cell_type": "code",
   "execution_count": 14,
   "id": "386675bf",
   "metadata": {},
   "outputs": [
    {
     "data": {
      "text/plain": [
       "count    3.000000e+05\n",
       "mean     1.046086e+05\n",
       "std      8.103749e+04\n",
       "min      7.142000e+03\n",
       "25%      5.744050e+04\n",
       "50%      8.639900e+04\n",
       "75%      1.324302e+05\n",
       "max      1.859336e+06\n",
       "Name: Dur. (ms), dtype: float64"
      ]
     },
     "execution_count": 14,
     "metadata": {},
     "output_type": "execute_result"
    }
   ],
   "source": [
    "# Analysis of one element\n",
    "df['Dur. (ms)'].describe()"
   ]
  },
  {
   "cell_type": "code",
   "execution_count": 15,
   "id": "9a9d2fb1",
   "metadata": {
    "scrolled": true
   },
   "outputs": [
    {
     "data": {
      "text/plain": [
       "Bearer Id                                     1982\n",
       "Start                                            2\n",
       "Start ms                                         2\n",
       "End                                              2\n",
       "End ms                                           2\n",
       "Dur. (ms)                                        2\n",
       "IMSI                                          1140\n",
       "MSISDN/Number                                 2132\n",
       "IMEI                                          1144\n",
       "Last Location Name                            2306\n",
       "Avg RTT DL (ms)                              55658\n",
       "Avg RTT UL (ms)                              55624\n",
       "Avg Bearer TP DL (kbps)                          2\n",
       "Avg Bearer TP UL (kbps)                          2\n",
       "TCP DL Retrans. Vol (Bytes)                 176292\n",
       "TCP UL Retrans. Vol (Bytes)                 193298\n",
       "DL TP < 50 Kbps (%)                           1508\n",
       "50 Kbps < DL TP < 250 Kbps (%)                1508\n",
       "250 Kbps < DL TP < 1 Mbps (%)                 1508\n",
       "DL TP > 1 Mbps (%)                            1508\n",
       "UL TP < 10 Kbps (%)                           1584\n",
       "10 Kbps < UL TP < 50 Kbps (%)                 1584\n",
       "50 Kbps < UL TP < 300 Kbps (%)                1584\n",
       "UL TP > 300 Kbps (%)                          1584\n",
       "HTTP DL (Bytes)                             162948\n",
       "HTTP UL (Bytes)                             163620\n",
       "Activity Duration DL (ms)                        2\n",
       "Activity Duration UL (ms)                        2\n",
       "Dur. (ms).1                                      2\n",
       "Handset Manufacturer                          1144\n",
       "Handset Type                                  1144\n",
       "Nb of sec with 125000B < Vol DL             195076\n",
       "Nb of sec with 1250B < Vol UL < 6250B       185788\n",
       "Nb of sec with 31250B < Vol DL < 125000B    187172\n",
       "Nb of sec with 37500B < Vol UL              260508\n",
       "Nb of sec with 6250B < Vol DL < 31250B      176634\n",
       "Nb of sec with 6250B < Vol UL < 37500B      223686\n",
       "Nb of sec with Vol DL < 6250B                 1510\n",
       "Nb of sec with Vol UL < 1250B                 1586\n",
       "Social Media DL (Bytes)                          0\n",
       "Social Media UL (Bytes)                          0\n",
       "Google DL (Bytes)                                0\n",
       "Google UL (Bytes)                                0\n",
       "Email DL (Bytes)                                 0\n",
       "Email UL (Bytes)                                 0\n",
       "Youtube DL (Bytes)                               0\n",
       "Youtube UL (Bytes)                               0\n",
       "Netflix DL (Bytes)                               0\n",
       "Netflix UL (Bytes)                               0\n",
       "Gaming DL (Bytes)                                0\n",
       "Gaming UL (Bytes)                                0\n",
       "Other DL (Bytes)                                 0\n",
       "Other UL (Bytes)                                 0\n",
       "Total UL (Bytes)                                 2\n",
       "Total DL (Bytes)                                 2\n",
       "dtype: int64"
      ]
     },
     "execution_count": 15,
     "metadata": {},
     "output_type": "execute_result"
    }
   ],
   "source": [
    "#Number of Missing values\n",
    "df.isna().sum()"
   ]
  },
  {
   "cell_type": "code",
   "execution_count": 16,
   "id": "56e8c429",
   "metadata": {},
   "outputs": [
    {
     "data": {
      "text/plain": [
       "2062784"
      ]
     },
     "execution_count": 16,
     "metadata": {},
     "output_type": "execute_result"
    }
   ],
   "source": [
    "#total number of missing values\n",
    "#df.isnull().sum().sum()\n",
    "df.isna().sum().sum()"
   ]
  },
  {
   "cell_type": "code",
   "execution_count": 17,
   "id": "5f7fea61",
   "metadata": {},
   "outputs": [
    {
     "data": {
      "text/plain": [
       "2"
      ]
     },
     "execution_count": 17,
     "metadata": {},
     "output_type": "execute_result"
    }
   ],
   "source": [
    "# Number of missing values in \"Dur. (ms)\"\n",
    "df['Dur. (ms)'].isna().sum()"
   ]
  },
  {
   "cell_type": "code",
   "execution_count": 6,
   "id": "c6b5619f",
   "metadata": {},
   "outputs": [
    {
     "name": "stdout",
     "output_type": "stream",
     "text": [
      "The dataframe telecom has  12.5 %  missing values.\n"
     ]
    }
   ],
   "source": [
    "import numpy as np\n",
    "#Percentage of missing values\n",
    "\n",
    "def percent_miss (data):\n",
    "    \n",
    "    #total number of cells in df\n",
    "    T = np.product(data.shape)\n",
    "    \n",
    "    #total number of missing values\n",
    "    M = data.isna().sum().sum()\n",
    "    \n",
    "    #percentage of missing values\n",
    "    P = round((M/T)*100,2)\n",
    "    \n",
    "    print (\"The dataframe telecom has \", P , \"%\" , \" missing values.\")\n",
    "    \n",
    "percent_miss(df)"
   ]
  },
  {
   "cell_type": "code",
   "execution_count": 16,
   "id": "7a51d325",
   "metadata": {},
   "outputs": [
    {
     "data": {
      "text/plain": [
       "Bearer Id                                    0.660662\n",
       "Start                                        0.000667\n",
       "Start ms                                     0.000667\n",
       "End                                          0.000667\n",
       "End ms                                       0.000667\n",
       "Dur. (ms)                                    0.000667\n",
       "IMSI                                         0.379997\n",
       "MSISDN/Number                                0.710662\n",
       "IMEI                                         0.381331\n",
       "Last Location Name                           0.768662\n",
       "Avg RTT DL (ms)                             18.552543\n",
       "Avg RTT UL (ms)                             18.541210\n",
       "Avg Bearer TP DL (kbps)                      0.000667\n",
       "Avg Bearer TP UL (kbps)                      0.000667\n",
       "TCP DL Retrans. Vol (Bytes)                 58.763608\n",
       "TCP UL Retrans. Vol (Bytes)                 64.432237\n",
       "DL TP < 50 Kbps (%)                          0.502663\n",
       "50 Kbps < DL TP < 250 Kbps (%)               0.502663\n",
       "250 Kbps < DL TP < 1 Mbps (%)                0.502663\n",
       "DL TP > 1 Mbps (%)                           0.502663\n",
       "UL TP < 10 Kbps (%)                          0.527996\n",
       "10 Kbps < UL TP < 50 Kbps (%)                0.527996\n",
       "50 Kbps < UL TP < 300 Kbps (%)               0.527996\n",
       "UL TP > 300 Kbps (%)                         0.527996\n",
       "HTTP DL (Bytes)                             54.315638\n",
       "HTTP UL (Bytes)                             54.539636\n",
       "Activity Duration DL (ms)                    0.000667\n",
       "Activity Duration UL (ms)                    0.000667\n",
       "Dur. (ms).1                                  0.000667\n",
       "Handset Manufacturer                         0.381331\n",
       "Handset Type                                 0.381331\n",
       "Nb of sec with 125000B < Vol DL             65.024900\n",
       "Nb of sec with 1250B < Vol UL < 6250B       61.928920\n",
       "Nb of sec with 31250B < Vol DL < 125000B    62.390251\n",
       "Nb of sec with 37500B < Vol UL              86.835421\n",
       "Nb of sec with 6250B < Vol DL < 31250B      58.877607\n",
       "Nb of sec with 6250B < Vol UL < 37500B      74.561503\n",
       "Nb of sec with Vol DL < 6250B                0.503330\n",
       "Nb of sec with Vol UL < 1250B                0.528663\n",
       "Social Media DL (Bytes)                      0.000000\n",
       "Social Media UL (Bytes)                      0.000000\n",
       "Google DL (Bytes)                            0.000000\n",
       "Google UL (Bytes)                            0.000000\n",
       "Email DL (Bytes)                             0.000000\n",
       "Email UL (Bytes)                             0.000000\n",
       "Youtube DL (Bytes)                           0.000000\n",
       "Youtube UL (Bytes)                           0.000000\n",
       "Netflix DL (Bytes)                           0.000000\n",
       "Netflix UL (Bytes)                           0.000000\n",
       "Gaming DL (Bytes)                            0.000000\n",
       "Gaming UL (Bytes)                            0.000000\n",
       "Other DL (Bytes)                             0.000000\n",
       "Other UL (Bytes)                             0.000000\n",
       "Total UL (Bytes)                             0.000667\n",
       "Total DL (Bytes)                             0.000667\n",
       "dtype: float64"
      ]
     },
     "execution_count": 16,
     "metadata": {},
     "output_type": "execute_result"
    }
   ],
   "source": [
    "#Percentage of missing value for each element\n",
    "def percent_miss_each (datafr):\n",
    "    a = (datafr.isna().sum() / len(df) )*100\n",
    "    return a\n",
    "\n",
    "percent_miss_each(df)"
   ]
  },
  {
   "cell_type": "code",
   "execution_count": 20,
   "id": "478f466b",
   "metadata": {
    "scrolled": true
   },
   "outputs": [
    {
     "data": {
      "text/plain": [
       "Bearer Id                                     0.026666\n",
       "Start ms                                      0.000968\n",
       "End ms                                       -0.001163\n",
       "Dur. (ms)                                     3.952589\n",
       "IMSI                                         41.045750\n",
       "MSISDN/Number                               332.154183\n",
       "IMEI                                          1.071465\n",
       "Avg RTT DL (ms)                              62.907442\n",
       "Avg RTT UL (ms)                              28.457240\n",
       "Avg Bearer TP DL (kbps)                       2.589424\n",
       "Avg Bearer TP UL (kbps)                       4.503390\n",
       "TCP DL Retrans. Vol (Bytes)                  15.951615\n",
       "TCP UL Retrans. Vol (Bytes)                  84.112211\n",
       "DL TP < 50 Kbps (%)                          -2.297792\n",
       "50 Kbps < DL TP < 250 Kbps (%)                3.271437\n",
       "250 Kbps < DL TP < 1 Mbps (%)                 4.566135\n",
       "DL TP > 1 Mbps (%)                            5.370324\n",
       "UL TP < 10 Kbps (%)                          -8.984971\n",
       "10 Kbps < UL TP < 50 Kbps (%)                10.943833\n",
       "50 Kbps < UL TP < 300 Kbps (%)               21.878385\n",
       "UL TP > 300 Kbps (%)                         36.173871\n",
       "HTTP DL (Bytes)                              38.944284\n",
       "HTTP UL (Bytes)                              32.474612\n",
       "Activity Duration DL (ms)                     5.872226\n",
       "Activity Duration UL (ms)                     7.382520\n",
       "Dur. (ms).1                                   3.952589\n",
       "Nb of sec with 125000B < Vol DL               6.592407\n",
       "Nb of sec with 1250B < Vol UL < 6250B        22.035455\n",
       "Nb of sec with 31250B < Vol DL < 125000B      6.610453\n",
       "Nb of sec with 37500B < Vol UL               21.559210\n",
       "Nb of sec with 6250B < Vol DL < 31250B        6.895966\n",
       "Nb of sec with 6250B < Vol UL < 37500B       19.642366\n",
       "Nb of sec with Vol DL < 6250B                 9.042120\n",
       "Nb of sec with Vol UL < 1250B                 7.495138\n",
       "Social Media DL (Bytes)                      -0.002136\n",
       "Social Media UL (Bytes)                      -0.000359\n",
       "Google DL (Bytes)                            -0.008092\n",
       "Google UL (Bytes)                             0.002216\n",
       "Email DL (Bytes)                             -0.002463\n",
       "Email UL (Bytes)                              0.007358\n",
       "Youtube DL (Bytes)                            0.000231\n",
       "Youtube UL (Bytes)                           -0.001142\n",
       "Netflix DL (Bytes)                           -0.002442\n",
       "Netflix UL (Bytes)                           -0.000113\n",
       "Gaming DL (Bytes)                            -0.003460\n",
       "Gaming UL (Bytes)                            -0.001840\n",
       "Other DL (Bytes)                              0.001400\n",
       "Other UL (Bytes)                              0.001392\n",
       "Total UL (Bytes)                             -0.002456\n",
       "Total DL (Bytes)                             -0.003153\n",
       "dtype: float64"
      ]
     },
     "execution_count": 20,
     "metadata": {},
     "output_type": "execute_result"
    }
   ],
   "source": [
    "# Calculation of the skewness of all float data\n",
    "df[fl_col].skew(axis=0)"
   ]
  },
  {
   "cell_type": "code",
   "execution_count": 20,
   "id": "76c4b5f9",
   "metadata": {},
   "outputs": [
    {
     "data": {
      "text/plain": [
       "<Axes: >"
      ]
     },
     "execution_count": 20,
     "metadata": {},
     "output_type": "execute_result"
    },
    {
     "data": {
      "image/png": "[encoded data removed]",
      "text/plain": [
       "<Figure size 640x480 with 1 Axes>"
      ]
     },
     "metadata": {},
     "output_type": "display_data"
    }
   ],
   "source": [
    "df['MSISDN/Number'].hist()"
   ]
  },
  {
   "cell_type": "code",
   "execution_count": 19,
   "id": "7fd62fd2",
   "metadata": {},
   "outputs": [
    {
     "data": {
      "text/plain": [
       "<Axes: >"
      ]
     },
     "execution_count": 19,
     "metadata": {},
     "output_type": "execute_result"
    },
    {
     "data": {
      "image/png": "[encoded data removed]",
      "text/plain": [
       "<Figure size 640x480 with 1 Axes>"
      ]
     },
     "metadata": {},
     "output_type": "display_data"
    }
   ],
   "source": [
    "df['Dur. (ms)'].hist()"
   ]
  },
  {
   "cell_type": "code",
   "execution_count": 26,
   "id": "d39e8a7a",
   "metadata": {
    "scrolled": true
   },
   "outputs": [
    {
     "data": {
      "text/plain": [
       "<seaborn.axisgrid.FacetGrid at 0x7fd0ebf03f50>"
      ]
     },
     "execution_count": 26,
     "metadata": {},
     "output_type": "execute_result"
    },
    {
     "data": {
      "image/png": "[encoded data removed]",
      "text/plain": [
       "<Figure size 500x500 with 1 Axes>"
      ]
     },
     "metadata": {},
     "output_type": "display_data"
    }
   ],
   "source": [
    "import seaborn as sns\n",
    "\n",
    "sns.displot(data=df, x=df['Dur. (ms)'], kind='hist', log_scale=(10,10))"
   ]
  },
  {
   "cell_type": "markdown",
   "id": "5da70d81",
   "metadata": {},
   "source": [
    "### Handling with missing data"
   ]
  },
  {
   "cell_type": "code",
   "execution_count": 17,
   "id": "bb829e2f",
   "metadata": {},
   "outputs": [
    {
     "data": {
      "text/plain": [
       "(300002, 45)"
      ]
     },
     "execution_count": 17,
     "metadata": {},
     "output_type": "execute_result"
    }
   ],
   "source": [
    "#drop column with more than 30% missing value\n",
    "df_clean1 = df.drop(['TCP DL Retrans. Vol (Bytes)','TCP UL Retrans. Vol (Bytes)', 'HTTP DL (Bytes)','HTTP UL (Bytes)','Nb of sec with 125000B < Vol DL','Nb of sec with 1250B < Vol UL < 6250B','Nb of sec with 31250B < Vol DL < 125000B','Nb of sec with 37500B < Vol UL' ,'Nb of sec with 6250B < Vol DL < 31250B'  ,'Nb of sec with 6250B < Vol UL < 37500B'    ],axis=1)\n",
    "df_clean1.shape"
   ]
  },
  {
   "cell_type": "code",
   "execution_count": 21,
   "id": "72aa4596",
   "metadata": {},
   "outputs": [
    {
     "data": {
      "text/plain": [
       "(300002, 45)"
      ]
     },
     "execution_count": 21,
     "metadata": {},
     "output_type": "execute_result"
    }
   ],
   "source": [
    "# We will fill the missing data with the mode because we are analysing the customers behaviour so it will underlined our findings\n",
    "#df_clean['Handset Type'] = df_clean['Handset Type'].fillna(df_clean['Handset Type'].mode()[0])\n",
    "\n",
    "def filmode (datafr) :\n",
    "    \n",
    "    for col in datafr.columns :\n",
    "        datafr[col] = datafr[col].fillna(datafr[col].mode()[0])\n",
    "    return datafr\n",
    "\n",
    "df_clean = filmode(df_clean1)\n",
    "df_clean.shape"
   ]
  },
  {
   "cell_type": "code",
   "execution_count": 23,
   "id": "d6028434",
   "metadata": {},
   "outputs": [
    {
     "name": "stdout",
     "output_type": "stream",
     "text": [
      "      Bearer Id            Start  Start ms              End  End ms  \\\n",
      "0  1.311448e+19   4/4/2019 12:01     770.0  4/25/2019 14:35   662.0   \n",
      "1  1.311448e+19   4/9/2019 13:04     235.0   4/25/2019 8:15   606.0   \n",
      "2  1.311448e+19   4/9/2019 17:42       1.0  4/25/2019 11:58   652.0   \n",
      "3  1.311448e+19   4/10/2019 0:31     486.0   4/25/2019 7:36   171.0   \n",
      "4  1.311448e+19  4/12/2019 20:10     565.0  4/25/2019 10:40   954.0   \n",
      "\n",
      "   Dur. (ms)          IMSI  MSISDN/Number          IMEI  \\\n",
      "0  1823652.0  2.082014e+14   3.366496e+10  3.552121e+13   \n",
      "1  1365104.0  2.082019e+14   3.368185e+10  3.579401e+13   \n",
      "2  1361762.0  2.082003e+14   3.376063e+10  3.528151e+13   \n",
      "3  1321509.0  2.082014e+14   3.375034e+10  3.535661e+13   \n",
      "4  1089009.0  2.082014e+14   3.369980e+10  3.540701e+13   \n",
      "\n",
      "      Last Location Name  ...  Youtube DL (Bytes)  Youtube UL (Bytes)  \\\n",
      "0  9.16456699548519E+015  ...          15854611.0           2501332.0   \n",
      "1                L77566A  ...          20247395.0          19111729.0   \n",
      "2                D42335A  ...          19725661.0          14699576.0   \n",
      "3                T21824A  ...          21388122.0          15146643.0   \n",
      "4                D88865A  ...          15259380.0          18962873.0   \n",
      "\n",
      "   Netflix DL (Bytes)  Netflix UL (Bytes)  Gaming DL (Bytes)  \\\n",
      "0           8198936.0           9656251.0        278082303.0   \n",
      "1          18338413.0          17227132.0        608750074.0   \n",
      "2          17587794.0           6163408.0        229584621.0   \n",
      "3          13994646.0           1097942.0        799538153.0   \n",
      "4          17124581.0            415218.0        527707248.0   \n",
      "\n",
      "   Gaming UL (Bytes)  Other DL (Bytes)  Other UL (Bytes)  Total UL (Bytes)  \\\n",
      "0         14344150.0       171744450.0         8814393.0        36749741.0   \n",
      "1          1170709.0       526904238.0        15055145.0        53800391.0   \n",
      "2           395630.0       410692588.0         4215763.0        27883638.0   \n",
      "3         10849722.0       749039933.0        12797283.0        43324218.0   \n",
      "4          3529801.0       550709500.0        13910322.0        38542814.0   \n",
      "\n",
      "   Total DL (Bytes)  \n",
      "0       308879636.0  \n",
      "1       653384965.0  \n",
      "2       279807335.0  \n",
      "3       846028530.0  \n",
      "4       569138589.0  \n",
      "\n",
      "[5 rows x 45 columns]\n"
     ]
    },
    {
     "data": {
      "text/plain": [
       "0"
      ]
     },
     "execution_count": 23,
     "metadata": {},
     "output_type": "execute_result"
    }
   ],
   "source": [
    "print (df_clean.head(5))\n",
    "df_clean.isna().sum().sum()"
   ]
  },
  {
   "cell_type": "code",
   "execution_count": 28,
   "id": "355d96f8",
   "metadata": {},
   "outputs": [
    {
     "name": "stdout",
     "output_type": "stream",
     "text": [
      "The top 10 of handset type are : \n",
      "['Huawei B528S-23A', 'Apple iPhone 6S (A1688)', 'Apple iPhone 6 (A1586)', 'undefined', 'Apple iPhone 7 (A1778)', 'Apple iPhone Se (A1723)', 'Apple iPhone 8 (A1905)', 'Apple iPhone Xr (A2105)', 'Samsung Galaxy S8 (Sm-G950F)', 'Apple iPhone X (A1901)', 'Samsung Galaxy A5 Sm-A520F']\n"
     ]
    },
    {
     "data": {
      "text/plain": [
       "' '"
      ]
     },
     "execution_count": 28,
     "metadata": {},
     "output_type": "execute_result"
    }
   ],
   "source": [
    "#The top 10 handsets used by customers\n",
    "\n",
    "def top10(datafr,IDcol,col):  #datafr : is a dataframe ; IDcol : is a string(name of the ID column) ; col : is a string (name of the column)\n",
    "    # Find the unique bearer Ids = list of customers\n",
    "    UnId = datafr[IDcol].unique()\n",
    "    \n",
    "    \n",
    "    #Find the unique Handset Type = list of Handset type\n",
    "    UnHandset = datafr[col].unique()\n",
    "    \n",
    "    #Number of Id using 'a specific handset', by refering to their position (row index) \n",
    "    numb_use=[]\n",
    "    for handset in UnHandset : \n",
    "        numb = len(datafr[datafr[col]==handset].index.tolist())\n",
    "        numb_use = numb_use +[numb]\n",
    "\n",
    "    df_handset = pd.DataFrame()\n",
    "    df_handset['Handset type'] = UnHandset\n",
    "    df_handset['number of users'] = numb_use \n",
    " \n",
    "    # Get the 10 maximum number of use\n",
    "    maxi_use = sorted(df_handset['number of users'], reverse = True)[:11]\n",
    "   \n",
    "    #get the corresponding handset type of the top 10 number of use\n",
    "    tops =[]\n",
    "    for i in maxi_use : \n",
    "        row = df_handset[df_handset['number of users']== i].index.tolist()\n",
    "        row = row[0]\n",
    "        top = df_handset['Handset type'][row]\n",
    "        tops=tops+[top]\n",
    "    print(\"The top 10 of handset type are : \")\n",
    "    print(tops)\n",
    "\n",
    "    \n",
    "top10(df_clean,'Bearer Id','Handset Type')   "
   ]
  },
  {
   "cell_type": "code",
   "execution_count": 39,
   "id": "0c38c52c",
   "metadata": {},
   "outputs": [
    {
     "name": "stdout",
     "output_type": "stream",
     "text": [
      "The top 3 manufacturers are : ['Apple', 'Samsung', 'Huawei']\n"
     ]
    },
    {
     "data": {
      "text/plain": [
       "['Apple', 'Samsung', 'Huawei']"
      ]
     },
     "execution_count": 39,
     "metadata": {},
     "output_type": "execute_result"
    }
   ],
   "source": [
    "#Top 3 handset manufacturers\n",
    "def top3(datafr,IDcol,col):  #datafr : is a dataframe ; IDcol : is a string(name of the ID column) ; col : is a string (name of the column)\n",
    "\n",
    "    #Number and list of manufacturers\n",
    "    UnManuf = datafr[col].unique() #list\n",
    "    numb_manu = len(UnManuf)                            # number\n",
    "\n",
    "    # Number of users ID for each manufacturer\n",
    "    numb_use_manu=[]\n",
    "    for manu in UnManuf : \n",
    "        numb = len(datafr[datafr[col]==manu].index.tolist())\n",
    "        numb_use_manu = numb_use_manu +[numb]\n",
    "\n",
    "    #creating a dataframe for users numbers and manufacturers\n",
    "    df_manuf = pd.DataFrame()\n",
    "    df_manuf['Handset Manufacturer'] = UnManuf\n",
    "    df_manuf['Number of customers'] = numb_use_manu\n",
    "    #df_manuf.head(5)\n",
    "\n",
    "    # Get the top 3 number of use of customers\n",
    "    num_top_use = sorted(df_manuf['Number of customers'], reverse=True)[:3]\n",
    "    #print (num_top_use)\n",
    "\n",
    "    #Get the top 3 handset manufacturers using their respective number of customers\n",
    "    top_manu =[]\n",
    "    for num in num_top_use : \n",
    "        row = df_manuf[df_manuf['Number of customers']== num].index.tolist()\n",
    "        row = row[0] #assume that no number of customers are same\n",
    "        top = df_manuf['Handset Manufacturer'][row]\n",
    "        top_manu=top_manu+[top]\n",
    "    print(\"The top 3 manufacturers are :\", top_manu)\n",
    "    return(top_manu)\n",
    "\n",
    "top3(df_clean,'Bearer Id','Handset Manufacturer')\n",
    "    "
   ]
  },
  {
   "cell_type": "code",
   "execution_count": 40,
   "id": "1a63f11b",
   "metadata": {
    "scrolled": true
   },
   "outputs": [
    {
     "name": "stdout",
     "output_type": "stream",
     "text": [
      "The top 3 manufacturers are : ['Apple', 'Samsung', 'Huawei']\n",
      "There are  71 handset type of  Apple  and the top 5 handset types are :  ['Apple iPhone 6S (A1688)', 'Apple iPhone 6 (A1586)', 'Apple iPhone 7 (A1778)', 'Apple iPhone Se (A1723)', 'Apple iPhone 8 (A1905)']\n",
      "There are  189 handset type of  Samsung  and the top 5 handset types are :  ['Samsung Galaxy S8 (Sm-G950F)', 'Samsung Galaxy A5 Sm-A520F', 'Samsung Galaxy J5 (Sm-J530)', 'Samsung Galaxy J3 (Sm-J330)', 'Samsung Galaxy S7 (Sm-G930X)']\n",
      "There are  166 handset type of  Huawei  and the top 5 handset types are :  ['Huawei B528S-23A', 'Huawei E5180', 'Huawei P20 Lite Huawei Nova 3E', 'Huawei P20', 'Huawei Y6 2018']\n",
      "['Huawei B528S-23A', 'Huawei E5180', 'Huawei P20 Lite Huawei Nova 3E', 'Huawei P20', 'Huawei Y6 2018']\n"
     ]
    }
   ],
   "source": [
    "#Top 5 handsets per top 3 handsets manufacturers\n",
    "\n",
    "#Find the top 5 handsets of one manufacturer\n",
    "\n",
    "def findtop5 (datafr,manufcol,handsetcol,manuf):  \n",
    "    \n",
    "    #get the manufacturer handset list and number\n",
    "    row =datafr[datafr[manufcol]==manuf].index.tolist() #list of the row where we find the manuf\n",
    "    handset_list =[]\n",
    "    for index in row :\n",
    "        handset = datafr[handsetcol][index]\n",
    "        handset_list = handset_list + [handset]\n",
    "        handset_list =handset_list\n",
    "    df_handset_and_manuf = pd.DataFrame()\n",
    "    df_handset_and_manuf['Handset'] = handset_list\n",
    "    handset_list = df_handset_and_manuf['Handset'].unique()  #list\n",
    "    nb_hs_type = len( handset_list)\n",
    "    \n",
    "    # top 5 of the handset \n",
    "    # Number of users of each handset\n",
    "    numb_use_hs=[]\n",
    "    for hs in handset_list : \n",
    "        numb = len(df_handset_and_manuf[df_handset_and_manuf['Handset']==hs].index.tolist())\n",
    "        numb_use_hs = numb_use_hs +[numb]\n",
    "        \n",
    "        #creating a dataframe for users numbers and handset type\n",
    "    df_hs = pd.DataFrame()\n",
    "    df_hs['Handset Type'] = handset_list\n",
    "    df_hs['Number of users'] = numb_use_hs\n",
    "    \n",
    "    # Get the top5 number of use\n",
    "    num_top_hs = sorted(df_hs['Number of users'], reverse=True)[:5]\n",
    "\n",
    "    #Get the top 5 handset types\n",
    "    top_hs =[]\n",
    "    for num in num_top_hs : \n",
    "        row = df_hs[df_hs['Number of users']== num].index.tolist()\n",
    "        row = row[0] #assume that no number of uses are same\n",
    "        top = df_hs['Handset Type'][row]\n",
    "        top_hs=top_hs+[top]\n",
    "    \n",
    "    #number of handset type\n",
    "    n=len(handset_list)\n",
    "    \n",
    "    print(\"There are \", n , \"handset type of \", manuf , \" and the top 5 handset types are : \", top_hs)   \n",
    "    return(top_hs)\n",
    "\n",
    "#Get now the top 5 handsets per top 3 handsets manufacturers\n",
    "def top5ofeach(datafr,IDcol,manufcol,handsetcol) :\n",
    "    top_manu = top3(datafr,IDcol,manufcol)\n",
    "    for manuf in top_manu :\n",
    "        a = findtop5(datafr,manufcol,handsetcol,manuf)\n",
    "    print(a)\n",
    "    \n",
    "top5ofeach(df_clean, 'Bearer Id','Handset Manufacturer', 'Handset Type')"
   ]
  },
  {
   "cell_type": "markdown",
   "id": "b08b24b9",
   "metadata": {},
   "source": [
    "#### Interpretation and recommendation to marketing teams\n",
    "The Customers of TellCo are cumfortable using Apple, Huawei and Samsung. \n",
    "It is a good idea to collaborate with those company, like a promotional sale, especially with the handsets listed above."
   ]
  },
  {
   "cell_type": "markdown",
   "id": "33c9d4d9",
   "metadata": {
    "scrolled": true
   },
   "source": [
    "# TASK 2.1 : USERS' BEHAVIOUR"
   ]
  },
  {
   "cell_type": "markdown",
   "id": "cb0dbb79",
   "metadata": {},
   "source": [
    "        Aggregation per user of\n",
    "        ◦ number of xDR sessions\n",
    "        ◦ Session duration\n",
    "        ◦ the total download (DL) and upload (UL) data\n",
    "        ◦ the total data volume (in Bytes) during this session for each application"
   ]
  },
  {
   "cell_type": "code",
   "execution_count": 62,
   "id": "ba107116",
   "metadata": {},
   "outputs": [],
   "source": [
    "#generating a table with the user's behaviour data\n",
    "\n",
    "#number of xDR sessions\n",
    "def session_num(datafr,usersIDcol, data) :\n",
    "    \n",
    "    #get the list of users\n",
    "    userlist = datafr[usersIDcol].unique()\n",
    "    \n",
    "    #get the number of session of each user\n",
    "    Ss_num_ls = []\n",
    "    for ID in userlist :\n",
    "        row = datafr[datafr[usersIDcol]==ID].index.tolist()\n",
    "        numb=len(row)\n",
    "        Ss_num_ls = Ss_num_ls + [numb]\n",
    "    \n",
    "    #Create a dataframe\n",
    "    df_Ss_num = pd.DataFrame()\n",
    "    df_Ss_num['Users ID'] = userlist\n",
    "    df_Ss_num[data] = Ss_num_ls\n",
    "    return df_Ss_num   "
   ]
  },
  {
   "cell_type": "code",
   "execution_count": 63,
   "id": "0088fa2e",
   "metadata": {},
   "outputs": [
    {
     "name": "stdout",
     "output_type": "stream",
     "text": [
      "       Users ID  Number of xDR sessions\n",
      "0  1.311448e+19                       2\n",
      "1  1.311448e+19                       2\n",
      "2  1.311448e+19                       2\n",
      "3  1.311448e+19                       2\n",
      "4  1.311448e+19                       2\n"
     ]
    }
   ],
   "source": [
    "#number of xDR sessions\n",
    "Session_bhv = session_num(df_clean,'Bearer Id', 'Number of xDR sessions')\n",
    "print(Session_bhv.head(5))"
   ]
  },
  {
   "cell_type": "code",
   "execution_count": 60,
   "id": "be15621c",
   "metadata": {},
   "outputs": [],
   "source": [
    "#Function for total session duration per user \n",
    "def table_user (datafr,usersIDcol, data) : \n",
    "    #get the list of users\n",
    "    userlist = datafr[usersIDcol].unique()\n",
    "    #get the total data of each user\n",
    "    data1 = []\n",
    "    for ID in userlist :\n",
    "        row = datafr[datafr[usersIDcol]==ID].index.tolist()\n",
    "        tot = 0\n",
    "        for i in row : \n",
    "            row_n= i\n",
    "            value_n = datafr[data][row_n]\n",
    "            tot=tot+value_n\n",
    "        data1 = data1 + [tot]\n",
    "        \n",
    "    #Create a dataframe\n",
    "    df_behave = pd.DataFrame()\n",
    "    df_behave['Users ID'] = userlist\n",
    "    df_behave[data] = data1\n",
    "    return df_behave    "
   ]
  },
  {
   "cell_type": "code",
   "execution_count": 61,
   "id": "d4b1c3fb",
   "metadata": {
    "scrolled": true
   },
   "outputs": [
    {
     "name": "stdout",
     "output_type": "stream",
     "text": [
      "       Users ID  Dur. (ms)\n",
      "0  1.311448e+19  3647304.0\n",
      "1  1.311448e+19  2730208.0\n",
      "2  1.311448e+19  2723524.0\n",
      "3  1.311448e+19  2643018.0\n",
      "4  1.311448e+19  2178018.0\n"
     ]
    },
    {
     "data": {
      "text/plain": [
       "(134708, 2)"
      ]
     },
     "execution_count": 61,
     "metadata": {},
     "output_type": "execute_result"
    }
   ],
   "source": [
    "#Total session duration per user in ms\n",
    "Dur_bhv = table_user(df_clean,'Bearer Id','Dur. (ms)' )\n",
    "print(Dur_bhv.head(5))\n",
    "Dur_bhv.shape"
   ]
  },
  {
   "cell_type": "code",
   "execution_count": 67,
   "id": "b396bc1d",
   "metadata": {},
   "outputs": [],
   "source": [
    "#the total download (DL) and upload (UL) data\n",
    "def sumofdata (datafr,usersIDcol, data1, data2):\n",
    "    #the total download (DL)\n",
    "    DLT = table_user(datafr,usersIDcol,data1 )\n",
    "\n",
    "    #the total upload (UL)\n",
    "    ULT = table_user(datafr,usersIDcol,data2 )\n",
    "\n",
    "    # sum of download (DL) and upload (UL) data\n",
    "    ST = DLT[data1] + ULT[data2]\n",
    "\n",
    "    #Create the new dataframe\n",
    "    df_DL_UL = pd.DataFrame()\n",
    "    df_DL_UL['Users ID'] =DLT['Users ID']\n",
    "    df_DL_UL['Total of '+ data1 +' and '+data2] = ST\n",
    "    return df_DL_UL "
   ]
  },
  {
   "cell_type": "code",
   "execution_count": 68,
   "id": "bae7e113",
   "metadata": {},
   "outputs": [
    {
     "name": "stdout",
     "output_type": "stream",
     "text": [
      "       Users ID  Total of Total DL (Bytes) and Total UL (Bytes)\n",
      "0  1.311448e+19                                    6.912588e+08\n",
      "1  1.311448e+19                                    1.414371e+09\n",
      "2  1.311448e+19                                    6.153819e+08\n",
      "3  1.311448e+19                                    1.778705e+09\n",
      "4  1.311448e+19                                    1.215363e+09\n"
     ]
    }
   ],
   "source": [
    "tot_dl_ul = sumofdata (df_clean,'Bearer Id', 'Total DL (Bytes)', 'Total UL (Bytes)')\n",
    "print(tot_dl_ul.head(5))\n"
   ]
  },
  {
   "cell_type": "code",
   "execution_count": null,
   "id": "90f2be74",
   "metadata": {},
   "outputs": [],
   "source": []
  }
 ],
 "metadata": {
  "kernelspec": {
   "display_name": "Python 3 (ipykernel)",
   "language": "python",
   "name": "python3"
  },
  "language_info": {
   "codemirror_mode": {
    "name": "ipython",
    "version": 3
   },
   "file_extension": ".py",
   "mimetype": "text/x-python",
   "name": "python",
   "nbconvert_exporter": "python",
   "pygments_lexer": "ipython3",
   "version": "3.11.5"
  }
 },
 "nbformat": 4,
 "nbformat_minor": 5
}
